{
  "nbformat": 4,
  "nbformat_minor": 0,
  "metadata": {
    "accelerator": "GPU",
    "colab": {
      "name": "Copy of Car Price Prediction assignment.ipynb",
      "provenance": []
    },
    "kernelspec": {
      "display_name": "Python 3",
      "language": "python",
      "name": "python3"
    },
    "language_info": {
      "codemirror_mode": {
        "name": "ipython",
        "version": 3
      },
      "file_extension": ".py",
      "mimetype": "text/x-python",
      "name": "python",
      "nbconvert_exporter": "python",
      "pygments_lexer": "ipython3",
      "version": "3.8.5"
    }
  },
  "cells": [
    {
      "cell_type": "markdown",
      "metadata": {
        "id": "mOAKh0VX6A_w"
      },
      "source": [
        "# Car Price Prediction::"
      ]
    },
    {
      "cell_type": "markdown",
      "metadata": {
        "id": "aSstHJZc6A_9"
      },
      "source": [
        "Download dataset from this link:\n",
        "\n",
        "https://www.kaggle.com/hellbuoy/car-price-prediction"
      ]
    },
    {
      "cell_type": "markdown",
      "metadata": {
        "id": "PyE92shr6BAE"
      },
      "source": [
        "# Problem Statement::"
      ]
    },
    {
      "cell_type": "markdown",
      "metadata": {
        "id": "Xpwxam0R6BAF"
      },
      "source": [
        "A Chinese automobile company Geely Auto aspires to enter the US market by setting up their manufacturing unit there and producing cars locally to give competition to their US and European counterparts.\n",
        "\n",
        "They have contracted an automobile consulting company to understand the factors on which the pricing of cars depends. Specifically, they want to understand the factors affecting the pricing of cars in the American market, since those may be very different from the Chinese market. The company wants to know:\n",
        "\n",
        "Which variables are significant in predicting the price of a car\n",
        "How well those variables describe the price of a car\n",
        "Based on various market surveys, the consulting firm has gathered a large data set of different types of cars across the America market.\n",
        "\n",
        "# task::\n",
        "We are required to model the price of cars with the available independent variables. It will be used by the management to understand how exactly the prices vary with the independent variables. They can accordingly manipulate the design of the cars, the business strategy etc. to meet certain price levels. Further, the model will be a good way for management to understand the pricing dynamics of a new market."
      ]
    },
    {
      "cell_type": "markdown",
      "metadata": {
        "id": "xr5BdN8J6BAI"
      },
      "source": [
        "# WORKFLOW ::"
      ]
    },
    {
      "cell_type": "markdown",
      "metadata": {
        "id": "IsIVLK7j6BAK"
      },
      "source": [
        "1.Load Data\n",
        "\n",
        "2.Check Missing Values ( If Exist ; Fill each record with mean of its feature )\n",
        "\n",
        "3.Split into 50% Training(Samples,Labels) , 30% Test(Samples,Labels) and 20% Validation Data(Samples,Labels).\n",
        "\n",
        "4.Model : input Layer (No. of features ), 3 hidden layers including 10,8,6 unit & Output Layer with activation function relu/tanh (check by experiment).\n",
        "\n",
        "5.Compilation Step (Note : Its a Regression problem , select loss , metrics according to it)\n",
        "6.Train the Model with Epochs (100) and validate it\n",
        "\n",
        "7.If the model gets overfit tune your model by changing the units , No. of layers , activation function , epochs , add dropout layer or add Regularizer according to the need .\n",
        "\n",
        "8.Evaluation Step\n",
        "\n",
        "9.Prediction"
      ]
    },
    {
      "cell_type": "markdown",
      "metadata": {
        "id": "u_PakQpi7uUh"
      },
      "source": [
        "Importing Libraries "
      ]
    },
    {
      "cell_type": "code",
      "metadata": {
        "id": "8pqHomLI6BAR"
      },
      "source": [
        "import numpy as np\n",
        "import pandas as pd\n",
        "import matplotlib.pyplot as plt\n",
        "import seaborn as sns\n"
      ],
      "execution_count": null,
      "outputs": []
    },
    {
      "cell_type": "code",
      "metadata": {
        "colab": {
          "base_uri": "https://localhost:8080/",
          "height": 275
        },
        "id": "Tdt6eBJz6BAY",
        "outputId": "40b0e154-6cf1-4cb2-871f-b31d7a4a9a70"
      },
      "source": [
        "#Loading data and cheking five rows \n",
        "df_car=pd.read_csv(\"CarPrice_Assignment.csv\")\n",
        "df_car.head()"
      ],
      "execution_count": null,
      "outputs": [
        {
          "output_type": "execute_result",
          "data": {
            "text/html": [
              "<div>\n",
              "<style scoped>\n",
              "    .dataframe tbody tr th:only-of-type {\n",
              "        vertical-align: middle;\n",
              "    }\n",
              "\n",
              "    .dataframe tbody tr th {\n",
              "        vertical-align: top;\n",
              "    }\n",
              "\n",
              "    .dataframe thead th {\n",
              "        text-align: right;\n",
              "    }\n",
              "</style>\n",
              "<table border=\"1\" class=\"dataframe\">\n",
              "  <thead>\n",
              "    <tr style=\"text-align: right;\">\n",
              "      <th></th>\n",
              "      <th>car_ID</th>\n",
              "      <th>symboling</th>\n",
              "      <th>CarName</th>\n",
              "      <th>fueltype</th>\n",
              "      <th>aspiration</th>\n",
              "      <th>doornumber</th>\n",
              "      <th>carbody</th>\n",
              "      <th>drivewheel</th>\n",
              "      <th>enginelocation</th>\n",
              "      <th>wheelbase</th>\n",
              "      <th>carlength</th>\n",
              "      <th>carwidth</th>\n",
              "      <th>carheight</th>\n",
              "      <th>curbweight</th>\n",
              "      <th>enginetype</th>\n",
              "      <th>cylindernumber</th>\n",
              "      <th>enginesize</th>\n",
              "      <th>fuelsystem</th>\n",
              "      <th>boreratio</th>\n",
              "      <th>stroke</th>\n",
              "      <th>compressionratio</th>\n",
              "      <th>horsepower</th>\n",
              "      <th>peakrpm</th>\n",
              "      <th>citympg</th>\n",
              "      <th>highwaympg</th>\n",
              "      <th>price</th>\n",
              "    </tr>\n",
              "  </thead>\n",
              "  <tbody>\n",
              "    <tr>\n",
              "      <th>0</th>\n",
              "      <td>1</td>\n",
              "      <td>3</td>\n",
              "      <td>alfa-romero giulia</td>\n",
              "      <td>gas</td>\n",
              "      <td>std</td>\n",
              "      <td>two</td>\n",
              "      <td>convertible</td>\n",
              "      <td>rwd</td>\n",
              "      <td>front</td>\n",
              "      <td>88.6</td>\n",
              "      <td>168.8</td>\n",
              "      <td>64.1</td>\n",
              "      <td>48.8</td>\n",
              "      <td>2548</td>\n",
              "      <td>dohc</td>\n",
              "      <td>four</td>\n",
              "      <td>130</td>\n",
              "      <td>mpfi</td>\n",
              "      <td>3.47</td>\n",
              "      <td>2.68</td>\n",
              "      <td>9.0</td>\n",
              "      <td>111</td>\n",
              "      <td>5000</td>\n",
              "      <td>21</td>\n",
              "      <td>27</td>\n",
              "      <td>13495.0</td>\n",
              "    </tr>\n",
              "    <tr>\n",
              "      <th>1</th>\n",
              "      <td>2</td>\n",
              "      <td>3</td>\n",
              "      <td>alfa-romero stelvio</td>\n",
              "      <td>gas</td>\n",
              "      <td>std</td>\n",
              "      <td>two</td>\n",
              "      <td>convertible</td>\n",
              "      <td>rwd</td>\n",
              "      <td>front</td>\n",
              "      <td>88.6</td>\n",
              "      <td>168.8</td>\n",
              "      <td>64.1</td>\n",
              "      <td>48.8</td>\n",
              "      <td>2548</td>\n",
              "      <td>dohc</td>\n",
              "      <td>four</td>\n",
              "      <td>130</td>\n",
              "      <td>mpfi</td>\n",
              "      <td>3.47</td>\n",
              "      <td>2.68</td>\n",
              "      <td>9.0</td>\n",
              "      <td>111</td>\n",
              "      <td>5000</td>\n",
              "      <td>21</td>\n",
              "      <td>27</td>\n",
              "      <td>16500.0</td>\n",
              "    </tr>\n",
              "    <tr>\n",
              "      <th>2</th>\n",
              "      <td>3</td>\n",
              "      <td>1</td>\n",
              "      <td>alfa-romero Quadrifoglio</td>\n",
              "      <td>gas</td>\n",
              "      <td>std</td>\n",
              "      <td>two</td>\n",
              "      <td>hatchback</td>\n",
              "      <td>rwd</td>\n",
              "      <td>front</td>\n",
              "      <td>94.5</td>\n",
              "      <td>171.2</td>\n",
              "      <td>65.5</td>\n",
              "      <td>52.4</td>\n",
              "      <td>2823</td>\n",
              "      <td>ohcv</td>\n",
              "      <td>six</td>\n",
              "      <td>152</td>\n",
              "      <td>mpfi</td>\n",
              "      <td>2.68</td>\n",
              "      <td>3.47</td>\n",
              "      <td>9.0</td>\n",
              "      <td>154</td>\n",
              "      <td>5000</td>\n",
              "      <td>19</td>\n",
              "      <td>26</td>\n",
              "      <td>16500.0</td>\n",
              "    </tr>\n",
              "    <tr>\n",
              "      <th>3</th>\n",
              "      <td>4</td>\n",
              "      <td>2</td>\n",
              "      <td>audi 100 ls</td>\n",
              "      <td>gas</td>\n",
              "      <td>std</td>\n",
              "      <td>four</td>\n",
              "      <td>sedan</td>\n",
              "      <td>fwd</td>\n",
              "      <td>front</td>\n",
              "      <td>99.8</td>\n",
              "      <td>176.6</td>\n",
              "      <td>66.2</td>\n",
              "      <td>54.3</td>\n",
              "      <td>2337</td>\n",
              "      <td>ohc</td>\n",
              "      <td>four</td>\n",
              "      <td>109</td>\n",
              "      <td>mpfi</td>\n",
              "      <td>3.19</td>\n",
              "      <td>3.40</td>\n",
              "      <td>10.0</td>\n",
              "      <td>102</td>\n",
              "      <td>5500</td>\n",
              "      <td>24</td>\n",
              "      <td>30</td>\n",
              "      <td>13950.0</td>\n",
              "    </tr>\n",
              "    <tr>\n",
              "      <th>4</th>\n",
              "      <td>5</td>\n",
              "      <td>2</td>\n",
              "      <td>audi 100ls</td>\n",
              "      <td>gas</td>\n",
              "      <td>std</td>\n",
              "      <td>four</td>\n",
              "      <td>sedan</td>\n",
              "      <td>4wd</td>\n",
              "      <td>front</td>\n",
              "      <td>99.4</td>\n",
              "      <td>176.6</td>\n",
              "      <td>66.4</td>\n",
              "      <td>54.3</td>\n",
              "      <td>2824</td>\n",
              "      <td>ohc</td>\n",
              "      <td>five</td>\n",
              "      <td>136</td>\n",
              "      <td>mpfi</td>\n",
              "      <td>3.19</td>\n",
              "      <td>3.40</td>\n",
              "      <td>8.0</td>\n",
              "      <td>115</td>\n",
              "      <td>5500</td>\n",
              "      <td>18</td>\n",
              "      <td>22</td>\n",
              "      <td>17450.0</td>\n",
              "    </tr>\n",
              "  </tbody>\n",
              "</table>\n",
              "</div>"
            ],
            "text/plain": [
              "   car_ID  symboling                   CarName  ... citympg highwaympg    price\n",
              "0       1          3        alfa-romero giulia  ...      21         27  13495.0\n",
              "1       2          3       alfa-romero stelvio  ...      21         27  16500.0\n",
              "2       3          1  alfa-romero Quadrifoglio  ...      19         26  16500.0\n",
              "3       4          2               audi 100 ls  ...      24         30  13950.0\n",
              "4       5          2                audi 100ls  ...      18         22  17450.0\n",
              "\n",
              "[5 rows x 26 columns]"
            ]
          },
          "metadata": {
            "tags": []
          },
          "execution_count": 33
        }
      ]
    },
    {
      "cell_type": "code",
      "metadata": {
        "id": "2vA5VX-vIZH8"
      },
      "source": [
        "X=df_car.iloc[:,:-1]\n",
        "y=df_car.iloc[:,-1]"
      ],
      "execution_count": null,
      "outputs": []
    },
    {
      "cell_type": "code",
      "metadata": {
        "id": "ofuPqYKtAFUI"
      },
      "source": [
        "X.drop(X.select_dtypes(include='object'),axis=1,inplace=True)"
      ],
      "execution_count": null,
      "outputs": []
    },
    {
      "cell_type": "code",
      "metadata": {
        "colab": {
          "base_uri": "https://localhost:8080/"
        },
        "id": "WtRy-u2jAQIf",
        "outputId": "bd7a4d51-cb1f-4b74-8033-e9a846c0df09"
      },
      "source": [
        "print(f\"Shape of input ==> X :{X.shape}\\nShape of output ==> Y :{y.shape} \")"
      ],
      "execution_count": null,
      "outputs": [
        {
          "output_type": "stream",
          "text": [
            "Shape of input ==> X :(205, 15)\n",
            "Shape of output ==> Y :(205,) \n"
          ],
          "name": "stdout"
        }
      ]
    },
    {
      "cell_type": "code",
      "metadata": {
        "id": "h_4fte7MAFv8"
      },
      "source": [
        "X_train=X.sample(frac=0.7, replace=True, random_state=1,axis=0)\n",
        "y_train=y.sample(frac=0.7, replace=True, random_state=1,axis=0)"
      ],
      "execution_count": null,
      "outputs": []
    },
    {
      "cell_type": "code",
      "metadata": {
        "id": "Vkuu-dDXCim4"
      },
      "source": [
        "X_test=X.sample(frac=0.3, replace=True, random_state=1,axis=0)\n",
        "y_test=y.sample(frac=0.3, replace=True, random_state=1,axis=0)"
      ],
      "execution_count": null,
      "outputs": []
    },
    {
      "cell_type": "code",
      "metadata": {
        "colab": {
          "base_uri": "https://localhost:8080/"
        },
        "id": "0sctn8l0WnhH",
        "outputId": "21f553bf-0d2c-409f-d58b-c0eea096dc6d"
      },
      "source": [
        "print(f\"shape of training data is :{X_train.shape}\\nshape of training label is :{y_train.shape}\\nshape of testing data is :{X_test.shape}\\nshape of testing label is :{y_test.shape}\")"
      ],
      "execution_count": null,
      "outputs": [
        {
          "output_type": "stream",
          "text": [
            "shape of training data is :(144, 15)\n",
            "shape of training label is :(144,)\n",
            "shape of testing data is :(62, 15)\n",
            "shape of testing label is :(62,)\n"
          ],
          "name": "stdout"
        }
      ]
    },
    {
      "cell_type": "code",
      "metadata": {
        "id": "ZTHXZxvIXbyL"
      },
      "source": [
        "X_train=np.asarray(X_train).astype(\"float32\")\n",
        "X_test=np.asarray(X_test).astype(\"float32\")"
      ],
      "execution_count": null,
      "outputs": []
    },
    {
      "cell_type": "code",
      "metadata": {
        "id": "9AnUOYUp6BAd"
      },
      "source": [
        "mean = X_train.mean(axis=0)\n",
        "X_train-= mean\n",
        "std = X_train.std(axis=0)\n",
        "X_train/= std\n",
        "X_test-= mean\n",
        "X_test/= std"
      ],
      "execution_count": null,
      "outputs": []
    },
    {
      "cell_type": "code",
      "metadata": {
        "id": "NLyzGAu56BAf"
      },
      "source": [
        "y_mean = y_train.mean(axis=0)\n",
        "y_train-= y_mean\n",
        "y_std = y_train.std(axis=0)\n",
        "y_train/= y_std\n",
        "y_test-= y_mean\n",
        "y_test/= y_std"
      ],
      "execution_count": null,
      "outputs": []
    },
    {
      "cell_type": "code",
      "metadata": {
        "id": "59ZzAIFP6BAg"
      },
      "source": [
        "val_x=X_train[:50]\n",
        "partial_x_train=X_train[50:]\n",
        "val_y=y_train[:50]\n",
        "partial_y_train=y_train[50:]"
      ],
      "execution_count": null,
      "outputs": []
    },
    {
      "cell_type": "code",
      "metadata": {
        "id": "4fl7aV6_3wqK"
      },
      "source": [
        "import tensorflow as tf\n",
        "from keras import models,layers,optimizers,losses\n",
        "network=models.Sequential()\n",
        "network.add(layers.Dense(10,activation=\"relu\" ,input_shape=(X_train.shape[1],)))\n",
        "network.add(layers.Dense(10,activation=\"relu\"))\n",
        "network.add(layers.Dense(10,activation=\"relu\"))\n",
        "network.add(layers.Dense(1))\n",
        "network.compile(optimizer=\"rmsprop\",loss=\"mse\",metrics=[\"mae\"])"
      ],
      "execution_count": null,
      "outputs": []
    },
    {
      "cell_type": "code",
      "metadata": {
        "colab": {
          "base_uri": "https://localhost:8080/"
        },
        "id": "oLGAUrNT48wi",
        "outputId": "38659c65-a10e-4e6b-b514-e3163837215b"
      },
      "source": [
        "network.summary()"
      ],
      "execution_count": null,
      "outputs": [
        {
          "output_type": "stream",
          "text": [
            "Model: \"sequential_4\"\n",
            "_________________________________________________________________\n",
            "Layer (type)                 Output Shape              Param #   \n",
            "=================================================================\n",
            "dense_16 (Dense)             (None, 32)                512       \n",
            "_________________________________________________________________\n",
            "dense_17 (Dense)             (None, 64)                2112      \n",
            "_________________________________________________________________\n",
            "dense_18 (Dense)             (None, 64)                4160      \n",
            "_________________________________________________________________\n",
            "dense_19 (Dense)             (None, 1)                 65        \n",
            "=================================================================\n",
            "Total params: 6,849\n",
            "Trainable params: 6,849\n",
            "Non-trainable params: 0\n",
            "_________________________________________________________________\n"
          ],
          "name": "stdout"
        }
      ]
    },
    {
      "cell_type": "code",
      "metadata": {
        "colab": {
          "base_uri": "https://localhost:8080/"
        },
        "id": "dYDbEkY05Sfk",
        "outputId": "1a09ffba-da93-4bdc-e92b-883d6159c5f8"
      },
      "source": [
        "history=network.fit(partial_x_train, partial_y_train,epochs=45, batch_size=1, verbose=1,validation_data=(val_x,val_y))"
      ],
      "execution_count": null,
      "outputs": [
        {
          "output_type": "stream",
          "text": [
            "Epoch 1/45\n",
            "94/94 [==============================] - 1s 5ms/step - loss: 1.7256 - mae: 0.7507 - val_loss: 1.3949 - val_mae: 0.7800\n",
            "Epoch 2/45\n",
            "94/94 [==============================] - 0s 4ms/step - loss: 0.4688 - mae: 0.3588 - val_loss: 1.2095 - val_mae: 0.7239\n",
            "Epoch 3/45\n",
            "94/94 [==============================] - 0s 4ms/step - loss: 0.7251 - mae: 0.4317 - val_loss: 1.0990 - val_mae: 0.6736\n",
            "Epoch 4/45\n",
            "94/94 [==============================] - 0s 3ms/step - loss: 0.5568 - mae: 0.3657 - val_loss: 1.0247 - val_mae: 0.6444\n",
            "Epoch 5/45\n",
            "94/94 [==============================] - 0s 3ms/step - loss: 0.2493 - mae: 0.2690 - val_loss: 0.9633 - val_mae: 0.6244\n",
            "Epoch 6/45\n",
            "94/94 [==============================] - 0s 4ms/step - loss: 0.3976 - mae: 0.3258 - val_loss: 0.9105 - val_mae: 0.6139\n",
            "Epoch 7/45\n",
            "94/94 [==============================] - 0s 4ms/step - loss: 0.4602 - mae: 0.3369 - val_loss: 0.9004 - val_mae: 0.6025\n",
            "Epoch 8/45\n",
            "94/94 [==============================] - 0s 4ms/step - loss: 0.2277 - mae: 0.2535 - val_loss: 0.8923 - val_mae: 0.5977\n",
            "Epoch 9/45\n",
            "94/94 [==============================] - 0s 4ms/step - loss: 0.4479 - mae: 0.3256 - val_loss: 0.8736 - val_mae: 0.5944\n",
            "Epoch 10/45\n",
            "94/94 [==============================] - 0s 4ms/step - loss: 0.7500 - mae: 0.4045 - val_loss: 0.8484 - val_mae: 0.5857\n",
            "Epoch 11/45\n",
            "94/94 [==============================] - 0s 4ms/step - loss: 0.2333 - mae: 0.2301 - val_loss: 0.8448 - val_mae: 0.5799\n",
            "Epoch 12/45\n",
            "94/94 [==============================] - 0s 4ms/step - loss: 0.3959 - mae: 0.3170 - val_loss: 0.8418 - val_mae: 0.5754\n",
            "Epoch 13/45\n",
            "94/94 [==============================] - 0s 4ms/step - loss: 0.2555 - mae: 0.2758 - val_loss: 0.8264 - val_mae: 0.5713\n",
            "Epoch 14/45\n",
            "94/94 [==============================] - 0s 4ms/step - loss: 0.3675 - mae: 0.3095 - val_loss: 0.8265 - val_mae: 0.5714\n",
            "Epoch 15/45\n",
            "94/94 [==============================] - 0s 4ms/step - loss: 0.2484 - mae: 0.2502 - val_loss: 0.8389 - val_mae: 0.5719\n",
            "Epoch 16/45\n",
            "94/94 [==============================] - 0s 4ms/step - loss: 0.2414 - mae: 0.2149 - val_loss: 0.7563 - val_mae: 0.5505\n",
            "Epoch 17/45\n",
            "94/94 [==============================] - 0s 4ms/step - loss: 0.3167 - mae: 0.2511 - val_loss: 0.7417 - val_mae: 0.5411\n",
            "Epoch 18/45\n",
            "94/94 [==============================] - 0s 3ms/step - loss: 0.1795 - mae: 0.1897 - val_loss: 0.7288 - val_mae: 0.5344\n",
            "Epoch 19/45\n",
            "94/94 [==============================] - 0s 4ms/step - loss: 0.4226 - mae: 0.3356 - val_loss: 0.7325 - val_mae: 0.5318\n",
            "Epoch 20/45\n",
            "94/94 [==============================] - 0s 4ms/step - loss: 0.2564 - mae: 0.2433 - val_loss: 0.6877 - val_mae: 0.5170\n",
            "Epoch 21/45\n",
            "94/94 [==============================] - 0s 3ms/step - loss: 0.1652 - mae: 0.1847 - val_loss: 0.6814 - val_mae: 0.5148\n",
            "Epoch 22/45\n",
            "94/94 [==============================] - 0s 4ms/step - loss: 0.4448 - mae: 0.3287 - val_loss: 0.6518 - val_mae: 0.5074\n",
            "Epoch 23/45\n",
            "94/94 [==============================] - 0s 4ms/step - loss: 0.1341 - mae: 0.1755 - val_loss: 0.6309 - val_mae: 0.4964\n",
            "Epoch 24/45\n",
            "94/94 [==============================] - 0s 4ms/step - loss: 0.2701 - mae: 0.2269 - val_loss: 0.6315 - val_mae: 0.4957\n",
            "Epoch 25/45\n",
            "94/94 [==============================] - 0s 3ms/step - loss: 0.1755 - mae: 0.2122 - val_loss: 0.6334 - val_mae: 0.4970\n",
            "Epoch 26/45\n",
            "94/94 [==============================] - 0s 4ms/step - loss: 0.1615 - mae: 0.2003 - val_loss: 0.5732 - val_mae: 0.4837\n",
            "Epoch 27/45\n",
            "94/94 [==============================] - 0s 4ms/step - loss: 0.2111 - mae: 0.2206 - val_loss: 0.5822 - val_mae: 0.4776\n",
            "Epoch 28/45\n",
            "94/94 [==============================] - 0s 4ms/step - loss: 0.1701 - mae: 0.2126 - val_loss: 0.5439 - val_mae: 0.4596\n",
            "Epoch 29/45\n",
            "94/94 [==============================] - 0s 4ms/step - loss: 0.3601 - mae: 0.2529 - val_loss: 0.5429 - val_mae: 0.4590\n",
            "Epoch 30/45\n",
            "94/94 [==============================] - 0s 4ms/step - loss: 0.3819 - mae: 0.2623 - val_loss: 0.5571 - val_mae: 0.4642\n",
            "Epoch 31/45\n",
            "94/94 [==============================] - 0s 4ms/step - loss: 0.2010 - mae: 0.1676 - val_loss: 0.5326 - val_mae: 0.4577\n",
            "Epoch 32/45\n",
            "94/94 [==============================] - 0s 4ms/step - loss: 0.2317 - mae: 0.2227 - val_loss: 0.5002 - val_mae: 0.4387\n",
            "Epoch 33/45\n",
            "94/94 [==============================] - 0s 4ms/step - loss: 0.0977 - mae: 0.1415 - val_loss: 0.4836 - val_mae: 0.4318\n",
            "Epoch 34/45\n",
            "94/94 [==============================] - 0s 4ms/step - loss: 0.1114 - mae: 0.1636 - val_loss: 0.5103 - val_mae: 0.4726\n",
            "Epoch 35/45\n",
            "94/94 [==============================] - 0s 4ms/step - loss: 0.2334 - mae: 0.1955 - val_loss: 0.4705 - val_mae: 0.4142\n",
            "Epoch 36/45\n",
            "94/94 [==============================] - 0s 3ms/step - loss: 0.2282 - mae: 0.2083 - val_loss: 0.4567 - val_mae: 0.4181\n",
            "Epoch 37/45\n",
            "94/94 [==============================] - 0s 4ms/step - loss: 0.2641 - mae: 0.2250 - val_loss: 0.4647 - val_mae: 0.4238\n",
            "Epoch 38/45\n",
            "94/94 [==============================] - 0s 4ms/step - loss: 0.0868 - mae: 0.1247 - val_loss: 0.4490 - val_mae: 0.4197\n",
            "Epoch 39/45\n",
            "94/94 [==============================] - 0s 4ms/step - loss: 0.1052 - mae: 0.1381 - val_loss: 0.4213 - val_mae: 0.4012\n",
            "Epoch 40/45\n",
            "94/94 [==============================] - 0s 3ms/step - loss: 0.1117 - mae: 0.1477 - val_loss: 0.4335 - val_mae: 0.4075\n",
            "Epoch 41/45\n",
            "94/94 [==============================] - 0s 4ms/step - loss: 0.0710 - mae: 0.1387 - val_loss: 0.4239 - val_mae: 0.4059\n",
            "Epoch 42/45\n",
            "94/94 [==============================] - 0s 4ms/step - loss: 0.4348 - mae: 0.2720 - val_loss: 0.4211 - val_mae: 0.4073\n",
            "Epoch 43/45\n",
            "94/94 [==============================] - 0s 3ms/step - loss: 0.1701 - mae: 0.1738 - val_loss: 0.4030 - val_mae: 0.3961\n",
            "Epoch 44/45\n",
            "94/94 [==============================] - 0s 4ms/step - loss: 0.1846 - mae: 0.2170 - val_loss: 0.4110 - val_mae: 0.3781\n",
            "Epoch 45/45\n",
            "94/94 [==============================] - 0s 4ms/step - loss: 0.1556 - mae: 0.1781 - val_loss: 0.4001 - val_mae: 0.3891\n"
          ],
          "name": "stdout"
        }
      ]
    },
    {
      "cell_type": "code",
      "metadata": {
        "colab": {
          "base_uri": "https://localhost:8080/",
          "height": 295
        },
        "id": "8GN7NXzJ5hTO",
        "outputId": "e07ce842-a647-45b7-bb20-78b00cc6354a"
      },
      "source": [
        "loss = history.history['loss']\n",
        "val_loss = history.history['val_loss']\n",
        "epochs = range(1, len(loss) + 1)\n",
        "plt.plot(epochs, loss,\"go\",label='Training loss')\n",
        "plt.plot(epochs, val_loss, 'r', label='Validation loss')\n",
        "plt.title('Training and validation loss')\n",
        "plt.xlabel('Epochs')\n",
        "plt.ylabel('Loss')\n",
        "plt.legend()\n",
        "plt.show()"
      ],
      "execution_count": null,
      "outputs": [
        {
          "output_type": "display_data",
          "data": {
            "image/png": "[encoded data removed]",
            "text/plain": [
              "<Figure size 432x288 with 1 Axes>"
            ]
          },
          "metadata": {
            "tags": [],
            "needs_background": "light"
          }
        }
      ]
    },
    {
      "cell_type": "code",
      "metadata": {
        "colab": {
          "base_uri": "https://localhost:8080/"
        },
        "id": "kEoA-LKT7GvX",
        "outputId": "3540172e-fe42-4de1-a755-0d9c70358ead"
      },
      "source": [
        "network.evaluate(X_test,y_test)"
      ],
      "execution_count": null,
      "outputs": [
        {
          "output_type": "stream",
          "text": [
            "2/2 [==============================] - 0s 7ms/step - loss: 0.0813 - mae: 0.1805\n"
          ],
          "name": "stdout"
        },
        {
          "output_type": "execute_result",
          "data": {
            "text/plain": [
              "[0.08129378408193588, 0.18051113188266754]"
            ]
          },
          "metadata": {
            "tags": []
          },
          "execution_count": 51
        }
      ]
    },
    {
      "cell_type": "code",
      "metadata": {
        "colab": {
          "base_uri": "https://localhost:8080/"
        },
        "id": "tC9O--I3-fhq",
        "outputId": "d546c846-4167-47f5-b92e-df0104a5da1c"
      },
      "source": [
        "result_1=network.predict(X_test)\n",
        "result_1[4]"
      ],
      "execution_count": null,
      "outputs": [
        {
          "output_type": "execute_result",
          "data": {
            "text/plain": [
              "array([1.2246195], dtype=float32)"
            ]
          },
          "metadata": {
            "tags": []
          },
          "execution_count": 52
        }
      ]
    },
    {
      "cell_type": "code",
      "metadata": {
        "colab": {
          "base_uri": "https://localhost:8080/",
          "height": 295
        },
        "id": "bhyLGejV-unF",
        "outputId": "fc8f6fdd-cd31-4ca5-f953-1f2daf1c65d9"
      },
      "source": [
        "y=result_1\n",
        "y1=range(62)\n",
        "x=y_test\n",
        "plt.scatter(x, y1, label= \"Actual price\", color= \"green\", marker= \".\", s=100)\n",
        "plt.scatter(y, y1, label= \"Predicted Price\", color= \"red\", marker= \"*\", s=100)\n",
        "plt.xlabel('Price')\n",
        "plt.ylabel('Rows')\n",
        "plt.title('Actual price vs predicted price!')\n",
        "plt.legend()\n",
        "plt.grid()\n",
        "plt.show()"
      ],
      "execution_count": null,
      "outputs": [
        {
          "output_type": "display_data",
          "data": {
            "image/png": "[encoded data removed]",
            "text/plain": [
              "<Figure size 432x288 with 1 Axes>"
            ]
          },
          "metadata": {
            "tags": [],
            "needs_background": "light"
          }
        }
      ]
    },
    {
      "cell_type": "code",
      "metadata": {
        "id": "Pqj2PBoH9-ya"
      },
      "source": [
        ""
      ],
      "execution_count": null,
      "outputs": []
    }
  ]
}